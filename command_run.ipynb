{
 "cells": [
  {
   "cell_type": "code",
   "execution_count": null,
   "metadata": {},
   "outputs": [],
   "source": [
    "model_name = \"google/gemma-2b-it\"\n",
    "dataset_path = \"simondubail/edgecodedpo\"\n",
    "output_dir = \"content/drive/myDrive/kaggle/working/dpo_output\""
   ]
  },
  {
   "cell_type": "code",
   "execution_count": null,
   "metadata": {},
   "outputs": [],
   "source": [
    "!python -m edgecodedpo train train \\\n",
    "    --model {model_name} \\\n",
    "    --dataset {dataset_path} \\\n",
    "    --output {output_dir} \\\n",
    "    --epochs 15 \\\n",
    "    --batch-size 2 \\\n",
    "    --beta 0.1"
   ]
  }
 ],
 "metadata": {
  "kernelspec": {
   "display_name": "base",
   "language": "python",
   "name": "python3"
  },
  "language_info": {
   "codemirror_mode": {
    "name": "ipython",
    "version": 3
   },
   "file_extension": ".py",
   "mimetype": "text/x-python",
   "name": "python",
   "nbconvert_exporter": "python",
   "pygments_lexer": "ipython3",
   "version": "3.12.7"
  }
 },
 "nbformat": 4,
 "nbformat_minor": 2
}
